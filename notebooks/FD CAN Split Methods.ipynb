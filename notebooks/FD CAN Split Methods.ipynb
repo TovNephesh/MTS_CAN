{
 "cells": [
  {
   "cell_type": "markdown",
   "id": "5bc1175e",
   "metadata": {},
   "source": [
    "## Loading Packages"
   ]
  },
  {
   "cell_type": "code",
   "execution_count": 2,
   "id": "b89e3a24",
   "metadata": {},
   "outputs": [
    {
     "data": {
      "text/plain": [
       "<module 'CAN_objects.aid_message' from '/Users/6u0/fault-data-analysis/src/CAN_objects/aid_message.py'>"
      ]
     },
     "execution_count": 2,
     "metadata": {},
     "output_type": "execute_result"
    }
   ],
   "source": [
    "import os\n",
    "import sys\n",
    "import h5py\n",
    "import glob\n",
    "import json\n",
    "import math\n",
    "import time\n",
    "import timeit\n",
    "import hdbscan\n",
    "import itertools\n",
    "import importlib\n",
    "import subprocess\n",
    "import numpy as np\n",
    "import pandas as pd\n",
    "import seaborn as sns\n",
    "import xgboost as xgb\n",
    "import tensorflow as tf\n",
    "from scipy import stats\n",
    "import keras.backend as K\n",
    "import matplotlib.pyplot as plt\n",
    "from collections import defaultdict\n",
    "from sklearn.cluster import DBSCAN, KMeans\n",
    "from scipy.stats import shapiro, mannwhitneyu, ttest_ind, spearmanr\n",
    "from sklearn.preprocessing import normalize, scale, MinMaxScaler, StandardScaler\n",
    "from scipy.cluster.hierarchy import single, complete, average, ward, dendrogram, linkage, fcluster\n",
    "\n",
    "from tcn import TCN\n",
    "from pandas import read_csv\n",
    "from sklearn.svm import SVC\n",
    "from sklearn import svm, datasets\n",
    "from IPython.display import Image\n",
    "from sklearn.tree import plot_tree\n",
    "from sklearn.decomposition import PCA\n",
    "from tensorflow.keras.optimizers import Adam\n",
    "from sklearn.neighbors import NearestNeighbors\n",
    "from tensorflow.keras.utils import to_categorical\n",
    "from sklearn.ensemble import RandomForestClassifier\n",
    "from sklearn.model_selection import cross_val_score\n",
    "from tensorflow.keras.metrics import Precision, Recall\n",
    "from sktime.transformations.panel.rocket import Rocket\n",
    "from sklearn.metrics.cluster import normalized_mutual_info_score\n",
    "from tensorflow.keras.models import Model, load_model, Sequential\n",
    "from sklearn.linear_model import LogisticRegression, RidgeClassifierCV\n",
    "from sklearn.model_selection import train_test_split, TimeSeriesSplit, KFold\n",
    "from tensorflow.keras.callbacks import ReduceLROnPlateau, ModelCheckpoint, EarlyStopping\n",
    "from tensorflow.keras.layers import Input, Conv1D, MaxPooling1D, BatchNormalization, Activation, GlobalAveragePooling1D, Dense, add, Dropout, concatenate, LSTM\n",
    "from sklearn.metrics import accuracy_score, confusion_matrix, precision_score, recall_score, f1_score, roc_auc_score, roc_curve, auc, log_loss, classification_report, silhouette_score\n",
    "\n",
    "work_path = os.path.join(os.path.join(os.path.expanduser(\"~\"), \"fault-data-analysis\"))\n",
    "os.chdir(work_path)\n",
    "sys.path.insert(0, \"src\")  # add src folder to path so that files from this folder can be imported\n",
    "import CAN_objects.aid_message\n",
    "importlib.reload(CAN_objects.aid_message)"
   ]
  },
  {
   "cell_type": "markdown",
   "id": "999d5de6",
   "metadata": {},
   "source": [
    "## Splitting Techniques"
   ]
  },
  {
   "cell_type": "code",
   "execution_count": 5,
   "id": "c7aa57bf",
   "metadata": {},
   "outputs": [],
   "source": [
    "# plotting parameters\n",
    "SMALL_SIZE = 10\n",
    "MEDIUM_SIZE = 15\n",
    "BIGGER_SIZE = 25\n",
    "\n",
    "plt.rc('font', size=MEDIUM_SIZE)          # controls default text sizes\n",
    "plt.rc('axes', titlesize=MEDIUM_SIZE)     # fontsize of the axes title\n",
    "plt.rc('axes', labelsize=MEDIUM_SIZE)      # fontsize of the x and y labels\n",
    "plt.rc('xtick', labelsize=MEDIUM_SIZE)    # fontsize of the tick labels\n",
    "plt.rc('ytick', labelsize=SMALL_SIZE)    # fontsize of the tick labels\n",
    "plt.rc('legend', fontsize=17)             # legend fontsize\n",
    "plt.rc('figure', titlesize=MEDIUM_SIZE)   # fontsize of the figure title"
   ]
  },
  {
   "cell_type": "code",
   "execution_count": 6,
   "id": "2948d77d",
   "metadata": {
    "scrolled": false
   },
   "outputs": [
    {
     "name": "stdout",
     "output_type": "stream",
     "text": [
      "Split 1:\n",
      "  Training set class distribution: {0: 160, 1: 255}\n",
      "  Testing set class distribution: {0: 270, 1: 145}\n",
      "--------------------------------------------------\n",
      "Split 2:\n",
      "  Training set class distribution: {0: 430, 1: 400}\n",
      "  Testing set class distribution: {0: 190, 1: 225}\n",
      "--------------------------------------------------\n",
      "Split 3:\n",
      "  Training set class distribution: {0: 620, 1: 625}\n",
      "  Testing set class distribution: {0: 170, 1: 245}\n",
      "--------------------------------------------------\n",
      "Split 4:\n",
      "  Training set class distribution: {0: 790, 1: 870}\n",
      "  Testing set class distribution: {0: 210, 1: 205}\n",
      "--------------------------------------------------\n",
      "Split 5:\n",
      "  Training set class distribution: {0: 1000, 1: 1075}\n",
      "  Testing set class distribution: {0: 318, 1: 97}\n",
      "--------------------------------------------------\n"
     ]
    },
    {
     "data": {
      "image/png": "[encoded data removed]",
      "text/plain": [
       "<Figure size 1400x700 with 1 Axes>"
      ]
     },
     "metadata": {},
     "output_type": "display_data"
    }
   ],
   "source": [
    "# Walk-forward (expanding window)\n",
    "\n",
    "def walk_forward_tscv(X, y, n_splits=7):\n",
    "    tscv = TimeSeriesSplit(n_splits=n_splits)\n",
    "    splits = []\n",
    "    \n",
    "    for i, (train_index, test_index) in enumerate(tscv.split(X)):\n",
    "        X_train, X_test = X[train_index], X[test_index]\n",
    "        y_train, y_test = y[train_index], y[test_index]\n",
    "        \n",
    "        unique, counts_train = np.unique(y_train, return_counts=True)\n",
    "        train_distribution = dict(zip(unique, counts_train))\n",
    "        \n",
    "        unique, counts_test = np.unique(y_test, return_counts=True)\n",
    "        test_distribution = dict(zip(unique, counts_test))\n",
    "        \n",
    "        splits.append((train_index, test_index))\n",
    "        \n",
    "        print(f\"Split {i+1}:\")\n",
    "        print(f\"  Training set class distribution: {train_distribution}\")\n",
    "        print(f\"  Testing set class distribution: {test_distribution}\")\n",
    "        print(\"-\" * 50)\n",
    "    \n",
    "    visualize_tscv_splits(X, splits)\n",
    "\n",
    "def visualize_tscv_splits(X, splits):\n",
    "    fig, ax = plt.subplots(figsize=(14, 7))\n",
    "    for i, (train_index, test_index) in enumerate(splits):\n",
    "        ax.scatter(train_index, np.repeat(i + 1, len(train_index)), c='blue', label='Training data' if i == 0 else \"\", marker='_', s=60, linewidth=17)\n",
    "        ax.scatter(test_index, np.repeat(i + 1, len(test_index)), c='red', label='Testing data' if i == 0 else \"\", marker='_', s=60, linewidth=17)\n",
    "\n",
    "    #ax.legend()\n",
    "    ax.set_yticks(np.arange(1, len(splits) + 1))\n",
    "    ax.set_yticklabels([f'Split {i+1}' for i in range(len(splits))])\n",
    "    #ax.set_xlabel('Index of data point')\n",
    "    #ax.set_ylabel('CV split')\n",
    "    #ax.set_title('Training and Testing Splits for Expanding Window TSCV')\n",
    "    ax.set_xticks([])\n",
    "    ax.set_yticks([])\n",
    "    for spine in ax.spines.values():\n",
    "        spine.set_visible(False)\n",
    "    plt.savefig(f'/Users/6u0/Desktop/Article Submissions/Paper2/images/wf.pdf', format='pdf', bbox_inches='tight')\n",
    "    plt.show()\n",
    "\n",
    "#predictor_columns = reduced_df\n",
    "predictor_columns = df_all\n",
    "X = predictor_columns.values\n",
    "y = df['Fault_Status'].values\n",
    "walk_forward_tscv(X, y, n_splits=5)"
   ]
  },
  {
   "cell_type": "code",
   "execution_count": 27,
   "id": "389c0f0d",
   "metadata": {
    "scrolled": false
   },
   "outputs": [
    {
     "name": "stdout",
     "output_type": "stream",
     "text": [
      "Split 1:\n",
      "  Training set class distribution: {0: 620, 1: 520}\n",
      "  Testing set class distribution: {1: 150}\n",
      "--------------------------------------------------\n",
      "Split 2:\n",
      "  Training set class distribution: {0: 620, 1: 520}\n",
      "  Testing set class distribution: {0: 148, 1: 2}\n",
      "--------------------------------------------------\n",
      "Split 3:\n",
      "  Training set class distribution: {0: 689, 1: 451}\n",
      "  Testing set class distribution: {0: 22, 1: 128}\n",
      "--------------------------------------------------\n",
      "Split 4:\n",
      "  Training set class distribution: {0: 630, 1: 510}\n",
      "  Testing set class distribution: {0: 28, 1: 122}\n",
      "--------------------------------------------------\n",
      "Split 5:\n",
      "  Training set class distribution: {0: 529, 1: 611}\n",
      "  Testing set class distribution: {0: 150}\n",
      "--------------------------------------------------\n",
      "Split 6:\n",
      "  Training set class distribution: {0: 538, 1: 602}\n",
      "  Testing set class distribution: {0: 32, 1: 118}\n",
      "--------------------------------------------------\n",
      "Split 7:\n",
      "  Training set class distribution: {0: 561, 1: 579}\n",
      "  Testing set class distribution: {0: 18, 1: 132}\n",
      "--------------------------------------------------\n",
      "Split 8:\n",
      "  Training set class distribution: {0: 429, 1: 711}\n",
      "  Testing set class distribution: {0: 150}\n",
      "--------------------------------------------------\n",
      "Split 9:\n",
      "  Training set class distribution: {0: 548, 1: 592}\n",
      "  Testing set class distribution: {0: 150}\n",
      "--------------------------------------------------\n"
     ]
    },
    {
     "data": {
      "image/png": "[encoded data removed]",
      "text/plain": [
       "<Figure size 1400x700 with 1 Axes>"
      ]
     },
     "metadata": {},
     "output_type": "display_data"
    }
   ],
   "source": [
    "# overlapping window (sliding window)\n",
    "\n",
    "def sliding_window_tscv(X, y, n_splits=7, test_size=150):\n",
    "\n",
    "    total_size = len(X)\n",
    "    train_size = total_size - (n_splits * test_size)  # Calculate initial training set size\n",
    "    splits = []\n",
    "    \n",
    "    for i in range(n_splits):\n",
    "        start_train = i * test_size\n",
    "        end_train = start_train + train_size\n",
    "        start_test = end_train\n",
    "        end_test = start_test + test_size\n",
    "        \n",
    "        # Ensure we do not go out of bounds\n",
    "        if end_test > total_size:\n",
    "            break\n",
    "        \n",
    "        train_index = np.arange(start_train, end_train)\n",
    "        test_index = np.arange(start_test, end_test)\n",
    "        \n",
    "        X_train, X_test = X[train_index], X[test_index]\n",
    "        y_train, y_test = y[train_index], y[test_index]\n",
    "        \n",
    "        unique, counts_train = np.unique(y_train, return_counts=True)\n",
    "        train_distribution = dict(zip(unique, counts_train))\n",
    "        \n",
    "        unique, counts_test = np.unique(y_test, return_counts=True)\n",
    "        test_distribution = dict(zip(unique, counts_test))\n",
    "        \n",
    "        splits.append((train_index, test_index))\n",
    "        \n",
    "        print(f\"Split {i+1}:\")\n",
    "        print(f\"  Training set class distribution: {train_distribution}\")\n",
    "        print(f\"  Testing set class distribution: {test_distribution}\")\n",
    "        print(\"-\" * 50)\n",
    "    \n",
    "    visualize_tscv_splits(X, splits)\n",
    "\n",
    "def visualize_tscv_splits(X, splits):\n",
    "    fig, ax = plt.subplots(figsize=(14, 7))\n",
    "    for i, (train_index, test_index) in enumerate(splits):\n",
    "        ax.scatter(train_index, np.repeat(i + 1, len(train_index)), c='blue', label='Training data' if i == 0 else \"\", marker='_', s=60, linewidth=17)\n",
    "        ax.scatter(test_index, np.repeat(i + 1, len(test_index)), c='red', label='Testing data' if i == 0 else \"\", marker='_', s=60, linewidth=17)\n",
    "\n",
    "    ax.legend()\n",
    "    ax.set_yticks(np.arange(1, len(splits) + 1))\n",
    "    ax.set_yticklabels([f'Split {i+1}' for i in range(len(splits))])\n",
    "    ax.set_xlabel('Index of data point')\n",
    "    #ax.set_ylabel('CV split')\n",
    "    #ax.set_title('Training and Testing Splits for Sliding Window TSCV')\n",
    "    #ax.set_xticks([])\n",
    "    ax.set_yticks([])\n",
    "    for spine in ax.spines.values():\n",
    "        spine.set_visible(False)\n",
    "    #plt.savefig(f'/Users/6u0/Desktop/Article Submissions/Paper2/images/sw.pdf', format='pdf', bbox_inches='tight')\n",
    "    plt.show()\n",
    "\n",
    "#predictor_columns = reduced_df\n",
    "predictor_columns = df_all\n",
    "X = predictor_columns.values\n",
    "y = df['Fault_Status'].values\n",
    "sliding_window_tscv(X, y, n_splits=9, test_size=150)"
   ]
  }
 ],
 "metadata": {
  "kernelspec": {
   "display_name": "Python 3 (ipykernel)",
   "language": "python",
   "name": "python3"
  },
  "language_info": {
   "codemirror_mode": {
    "name": "ipython",
    "version": 3
   },
   "file_extension": ".py",
   "mimetype": "text/x-python",
   "name": "python",
   "nbconvert_exporter": "python",
   "pygments_lexer": "ipython3",
   "version": "3.10.12"
  }
 },
 "nbformat": 4,
 "nbformat_minor": 5
}
